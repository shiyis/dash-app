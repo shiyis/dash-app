{
 "cells": [
  {
   "cell_type": "markdown",
   "id": "c564d242-18b3-46c1-976e-0e90fd9511f2",
   "metadata": {},
   "source": [
    "This page serves as the page for a more qualitative analysis for this particular project. Below are some questions that will be answered in this section of the proejct:\n",
    "\n",
    "1. How does the distribution of PAC funding across states correlate with voter turnout or election outcomes in those states?\n",
    "2. Is there a significant difference in fundraising and spending between the Democratic and Republican PACs over time, and what are the potential factors driving these differences?\n",
    "3. How does PAC funding affect the success rates of first-time candidates compared to incumbents?\n",
    "4. What trends can be observed in PAC contributions from smaller parties (e.g., 3RD) compared to major parties, and how does this influence political discourse?\n",
    "5. Does the average PAC spending align with the financial resources required for a successful campaign in different regions or states?\n",
    "6. How do PAC contributions from individual states reflect broader economic or demographic factors within those states?\n",
    "7. What is the impact of PAC funding on key battleground states during federal election cycles?\n",
    "8. How does PAC spending influence policy proposals and legislative priorities post-election?\n",
    "9. Can the dynamics of PAC contributions in 2021-2022 predict long-term shifts in political power or influence?\n",
    "10. How are PAC funds allocated between advertising, grassroots mobilization, and direct candidate support? Which method shows the highest return on investment in terms of election outcomes?"
   ]
  }
 ],
 "metadata": {
  "kernelspec": {
   "display_name": "Python 3 (ipykernel)",
   "language": "python",
   "name": "python3"
  },
  "language_info": {
   "codemirror_mode": {
    "name": "ipython",
    "version": 3
   },
   "file_extension": ".py",
   "mimetype": "text/x-python",
   "name": "python",
   "nbconvert_exporter": "python",
   "pygments_lexer": "ipython3",
   "version": "3.12.3"
  }
 },
 "nbformat": 4,
 "nbformat_minor": 5
}
